{
  "nbformat": 4,
  "nbformat_minor": 0,
  "metadata": {
    "colab": {
      "provenance": [],
      "toc_visible": true,
      "mount_file_id": "1bMGwMWtVJHBYiH8my5zTs1LDhA44s3Vh",
      "authorship_tag": "ABX9TyMhWc3W82XjWzFkHvbV6oSh",
      "include_colab_link": true
    },
    "kernelspec": {
      "name": "python3",
      "display_name": "Python 3"
    },
    "language_info": {
      "name": "python"
    }
  },
  "cells": [
    {
      "cell_type": "markdown",
      "metadata": {
        "id": "view-in-github",
        "colab_type": "text"
      },
      "source": [
        "<a href=\"https://colab.research.google.com/github/rodrigorissettoterra/Corretor_Ortografico/blob/main/Corretor_ortogr%C3%A1fico.ipynb\" target=\"_parent\"><img src=\"https://colab.research.google.com/assets/colab-badge.svg\" alt=\"Open In Colab\"/></a>"
      ]
    },
    {
      "cell_type": "markdown",
      "source": [
        "#Desenvolvendo um corretor ortográfico"
      ],
      "metadata": {
        "id": "JCwZAvmBiZ2H"
      }
    },
    {
      "cell_type": "markdown",
      "source": [
        "##Preparando o ambiente"
      ],
      "metadata": {
        "id": "5lXxa15xidmk"
      }
    },
    {
      "cell_type": "markdown",
      "source": [
        "###Baixando as bibliotecas necessárias"
      ],
      "metadata": {
        "id": "JvynqpqmoLLn"
      }
    },
    {
      "cell_type": "code",
      "source": [
        "import nltk\n",
        "nltk.download('punkt')"
      ],
      "metadata": {
        "colab": {
          "base_uri": "https://localhost:8080/"
        },
        "id": "U0kgwFIWoPPe",
        "outputId": "66192102-1fe2-4c33-c169-27c4dcde76ab"
      },
      "execution_count": 183,
      "outputs": [
        {
          "output_type": "stream",
          "name": "stderr",
          "text": [
            "[nltk_data] Downloading package punkt to /root/nltk_data...\n",
            "[nltk_data]   Package punkt is already up-to-date!\n"
          ]
        },
        {
          "output_type": "execute_result",
          "data": {
            "text/plain": [
              "True"
            ]
          },
          "metadata": {},
          "execution_count": 183
        }
      ]
    },
    {
      "cell_type": "markdown",
      "source": [
        "###Abrindo a base de dados"
      ],
      "metadata": {
        "id": "Sba5Xe5LiiRn"
      }
    },
    {
      "cell_type": "code",
      "execution_count": 184,
      "metadata": {
        "id": "Bvi4qoLyYLVT",
        "colab": {
          "base_uri": "https://localhost:8080/"
        },
        "outputId": "4acc7b06-cf61-4068-8b99-2abde6d413e9"
      },
      "outputs": [
        {
          "output_type": "stream",
          "name": "stdout",
          "text": [
            "\n",
            "\n",
            "\n",
            "imagem \n",
            "\n",
            "Temos a seguinte classe que representa um usuário no nosso sistema:\n",
            "\n",
            "java\n",
            "\n",
            "Para salvar um novo usuário, várias validações são feitas, como por exemplo: Ver se o nome só contém letras, [**o CPF só números**] e ver se o usuário possui no mínimo 18 anos. Veja o método que faz essa validação:\n",
            "\n",
            "java \n",
            "\n",
            "Suponha agora que eu tenha outra classe, a classe `Produto`, que contém um atributo nome e eu quero fazer a mesma validação que fiz para o nome do usuário: Ver se só contém letras. E aí? Vou\n"
          ]
        }
      ],
      "source": [
        "with open ('/content/drive/MyDrive/Base de dados/Corretor/artigos.txt', 'r') as f:\n",
        "  artigos = f.read()\n",
        "\n",
        "print(artigos[:500])"
      ]
    },
    {
      "cell_type": "markdown",
      "source": [
        "###Informações sobre a base de dados"
      ],
      "metadata": {
        "id": "uT0ZKMWmjcgW"
      }
    },
    {
      "cell_type": "markdown",
      "source": [
        "Contagem de caracteres da base de dados"
      ],
      "metadata": {
        "id": "Bi1-rhqnnUpz"
      }
    },
    {
      "cell_type": "code",
      "source": [
        "print('Nossa base de dados possui {} caracteres (Não tratados).'.format(len(artigos)))"
      ],
      "metadata": {
        "colab": {
          "base_uri": "https://localhost:8080/"
        },
        "id": "nRdCXZY4iugK",
        "outputId": "9081cc18-dce7-4748-ab07-86cb4d4a1337"
      },
      "execution_count": 185,
      "outputs": [
        {
          "output_type": "stream",
          "name": "stdout",
          "text": [
            "Nossa base de dados possui 2605046 caracteres (Não tratados).\n"
          ]
        }
      ]
    },
    {
      "cell_type": "markdown",
      "source": [
        "Reconhecimento de palavras"
      ],
      "metadata": {
        "id": "uIJoKdXPnqmE"
      }
    },
    {
      "cell_type": "code",
      "source": [
        "palavras_separadas = nltk.tokenize.word_tokenize(artigos)"
      ],
      "metadata": {
        "id": "95SUCcIzjqbJ"
      },
      "execution_count": 186,
      "outputs": []
    },
    {
      "cell_type": "code",
      "source": [
        "print('Nossa base de dados possui {} palavras (Não tratadas).'.format(len(palavras_separadas)))"
      ],
      "metadata": {
        "colab": {
          "base_uri": "https://localhost:8080/"
        },
        "id": "D_o9_71JnzSD",
        "outputId": "0c3ee2ae-a0ab-49ff-885a-177058022d94"
      },
      "execution_count": 187,
      "outputs": [
        {
          "output_type": "stream",
          "name": "stdout",
          "text": [
            "Nossa base de dados possui 515827 palavras (Não tratadas).\n"
          ]
        }
      ]
    },
    {
      "cell_type": "markdown",
      "source": [
        "###Criando uma função para separar palavras de uma base de dados"
      ],
      "metadata": {
        "id": "bRD2euBE3KcF"
      }
    },
    {
      "cell_type": "code",
      "source": [
        "def separa_palavras(lista_token):\n",
        "  lista_palavras = []\n",
        "  for token in lista_token:\n",
        "    if token.isalpha():\n",
        "      lista_palavras.append(token)\n",
        "  return lista_palavras"
      ],
      "metadata": {
        "id": "o6Pj3FvE2cYZ"
      },
      "execution_count": 188,
      "outputs": []
    },
    {
      "cell_type": "markdown",
      "source": [
        "Separando palavras de símbolos, utilizando a função desenvolvida"
      ],
      "metadata": {
        "id": "SMXU5_1F-5MN"
      }
    },
    {
      "cell_type": "code",
      "source": [
        "lista_tokens = nltk.tokenize.word_tokenize(artigos)\n",
        "lista_palavras = separa_palavras(lista_tokens)"
      ],
      "metadata": {
        "id": "0LnFBbEp3pHC"
      },
      "execution_count": 189,
      "outputs": []
    },
    {
      "cell_type": "code",
      "source": [
        "print('Nossa base de dados possui {} palavras (contém repetições).'.format(len(lista_palavras)))"
      ],
      "metadata": {
        "colab": {
          "base_uri": "https://localhost:8080/"
        },
        "id": "Pxdi4Dn13zHq",
        "outputId": "a319af17-554d-4822-974d-64aae6b1d38e"
      },
      "execution_count": 190,
      "outputs": [
        {
          "output_type": "stream",
          "name": "stdout",
          "text": [
            "Nossa base de dados possui 403031 palavras (contém repetições).\n"
          ]
        }
      ]
    },
    {
      "cell_type": "markdown",
      "source": [
        "##Normalização do termos"
      ],
      "metadata": {
        "id": "vxAnAEi3OM_A"
      }
    },
    {
      "cell_type": "markdown",
      "source": [
        "###Criando uma função para normalizar os termos da base de dados"
      ],
      "metadata": {
        "id": "qrgi0seeORJb"
      }
    },
    {
      "cell_type": "code",
      "source": [
        "def normalizacao(lista_palavras):\n",
        "  lista_normalizada = []\n",
        "  for palavra in lista_palavras:\n",
        "    lista_normalizada.append(palavra.lower())\n",
        "  return lista_normalizada"
      ],
      "metadata": {
        "id": "xPDAdhg07HCD"
      },
      "execution_count": 191,
      "outputs": []
    },
    {
      "cell_type": "code",
      "source": [
        "lista_normalizada = normalizacao(lista_palavras)\n",
        "len(lista_normalizada)"
      ],
      "metadata": {
        "colab": {
          "base_uri": "https://localhost:8080/"
        },
        "id": "Y02Sp3QsOot-",
        "outputId": "c2faa136-3e12-4a63-b3be-d369d70392aa"
      },
      "execution_count": 192,
      "outputs": [
        {
          "output_type": "execute_result",
          "data": {
            "text/plain": [
              "403031"
            ]
          },
          "metadata": {},
          "execution_count": 192
        }
      ]
    },
    {
      "cell_type": "markdown",
      "source": [
        "###Removendo palavras repetidas"
      ],
      "metadata": {
        "id": "OwP6gpOxPDFs"
      }
    },
    {
      "cell_type": "code",
      "source": [
        "print('A base de dados em questão possui {} palavras únicas'.format(len(set(lista_normalizada))))"
      ],
      "metadata": {
        "colab": {
          "base_uri": "https://localhost:8080/"
        },
        "id": "pUqv2TZeOvea",
        "outputId": "de56443e-5764-4816-975f-6df15fa6cacc"
      },
      "execution_count": 193,
      "outputs": [
        {
          "output_type": "stream",
          "name": "stdout",
          "text": [
            "A base de dados em questão possui 18464 palavras únicas\n"
          ]
        }
      ]
    },
    {
      "cell_type": "markdown",
      "source": [
        "###Fatiando strings"
      ],
      "metadata": {
        "id": "LNSMuVM-SK1P"
      }
    },
    {
      "cell_type": "markdown",
      "source": [
        "#### Criando uma função para inserir uma letra em cada termo analisado"
      ],
      "metadata": {
        "id": "76r5RYjbSStV"
      }
    },
    {
      "cell_type": "code",
      "source": [
        "def insere_letras(fatias):\n",
        "  novas_palavras = []\n",
        "  letras = 'abcdefghijklmnopqrstuvwxyzàáâãéèêíìîóòõôúùç'\n",
        "  for E,D in fatias:\n",
        "    for letra in letras:\n",
        "      novas_palavras.append(E + letra + D)\n",
        "  return novas_palavras"
      ],
      "metadata": {
        "id": "pn-bQBOyPR1M"
      },
      "execution_count": 194,
      "outputs": []
    },
    {
      "cell_type": "markdown",
      "source": [
        "####Criando uma função para gerar palavras"
      ],
      "metadata": {
        "id": "KuTmSkcbTtP1"
      }
    },
    {
      "cell_type": "code",
      "source": [
        "def gerador_palavras(palavra):\n",
        "  fatias = []\n",
        "  for i in range(len(palavra)+1):\n",
        "    fatias.append((palavra[:i],palavra[i:]))\n",
        "  palavras_geradas = insere_letras(fatias)\n",
        "  palavras_geradas += deletando_caracteres(fatias)\n",
        "  palavras_geradas += troca_letra(fatias)\n",
        "  palavras_geradas += inverte_letras(fatias)\n",
        "  return palavras_geradas"
      ],
      "metadata": {
        "id": "yDYWnu4cStgc"
      },
      "execution_count": 195,
      "outputs": []
    },
    {
      "cell_type": "markdown",
      "source": [
        "Verificando as funções criadas"
      ],
      "metadata": {
        "id": "J3lVScV7pYYZ"
      }
    },
    {
      "cell_type": "code",
      "source": [
        "palavras_geradas = gerador_palavras('lgica')\n",
        "print(palavras_geradas)\n",
        "print('\\nO termo lógica se encontra na posição: {} da lista gerada'.format(palavras_geradas.index('lógica')))"
      ],
      "metadata": {
        "colab": {
          "base_uri": "https://localhost:8080/"
        },
        "id": "dLMR7Uxvoi93",
        "outputId": "435188f0-269c-462d-c0ff-bf51bc27eafa"
      },
      "execution_count": 196,
      "outputs": [
        {
          "output_type": "stream",
          "name": "stdout",
          "text": [
            "['algica', 'blgica', 'clgica', 'dlgica', 'elgica', 'flgica', 'glgica', 'hlgica', 'ilgica', 'jlgica', 'klgica', 'llgica', 'mlgica', 'nlgica', 'olgica', 'plgica', 'qlgica', 'rlgica', 'slgica', 'tlgica', 'ulgica', 'vlgica', 'wlgica', 'xlgica', 'ylgica', 'zlgica', 'àlgica', 'álgica', 'âlgica', 'ãlgica', 'élgica', 'èlgica', 'êlgica', 'ílgica', 'ìlgica', 'îlgica', 'ólgica', 'òlgica', 'õlgica', 'ôlgica', 'úlgica', 'ùlgica', 'çlgica', 'lagica', 'lbgica', 'lcgica', 'ldgica', 'legica', 'lfgica', 'lggica', 'lhgica', 'ligica', 'ljgica', 'lkgica', 'llgica', 'lmgica', 'lngica', 'logica', 'lpgica', 'lqgica', 'lrgica', 'lsgica', 'ltgica', 'lugica', 'lvgica', 'lwgica', 'lxgica', 'lygica', 'lzgica', 'làgica', 'lágica', 'lâgica', 'lãgica', 'légica', 'lègica', 'lêgica', 'lígica', 'lìgica', 'lîgica', 'lógica', 'lògica', 'lõgica', 'lôgica', 'lúgica', 'lùgica', 'lçgica', 'lgaica', 'lgbica', 'lgcica', 'lgdica', 'lgeica', 'lgfica', 'lggica', 'lghica', 'lgiica', 'lgjica', 'lgkica', 'lglica', 'lgmica', 'lgnica', 'lgoica', 'lgpica', 'lgqica', 'lgrica', 'lgsica', 'lgtica', 'lguica', 'lgvica', 'lgwica', 'lgxica', 'lgyica', 'lgzica', 'lgàica', 'lgáica', 'lgâica', 'lgãica', 'lgéica', 'lgèica', 'lgêica', 'lgíica', 'lgìica', 'lgîica', 'lgóica', 'lgòica', 'lgõica', 'lgôica', 'lgúica', 'lgùica', 'lgçica', 'lgiaca', 'lgibca', 'lgicca', 'lgidca', 'lgieca', 'lgifca', 'lgigca', 'lgihca', 'lgiica', 'lgijca', 'lgikca', 'lgilca', 'lgimca', 'lginca', 'lgioca', 'lgipca', 'lgiqca', 'lgirca', 'lgisca', 'lgitca', 'lgiuca', 'lgivca', 'lgiwca', 'lgixca', 'lgiyca', 'lgizca', 'lgiàca', 'lgiáca', 'lgiâca', 'lgiãca', 'lgiéca', 'lgièca', 'lgiêca', 'lgiíca', 'lgiìca', 'lgiîca', 'lgióca', 'lgiòca', 'lgiõca', 'lgiôca', 'lgiúca', 'lgiùca', 'lgiçca', 'lgicaa', 'lgicba', 'lgicca', 'lgicda', 'lgicea', 'lgicfa', 'lgicga', 'lgicha', 'lgicia', 'lgicja', 'lgicka', 'lgicla', 'lgicma', 'lgicna', 'lgicoa', 'lgicpa', 'lgicqa', 'lgicra', 'lgicsa', 'lgicta', 'lgicua', 'lgicva', 'lgicwa', 'lgicxa', 'lgicya', 'lgicza', 'lgicàa', 'lgicáa', 'lgicâa', 'lgicãa', 'lgicéa', 'lgicèa', 'lgicêa', 'lgicía', 'lgicìa', 'lgicîa', 'lgicóa', 'lgicòa', 'lgicõa', 'lgicôa', 'lgicúa', 'lgicùa', 'lgicça', 'lgicaa', 'lgicab', 'lgicac', 'lgicad', 'lgicae', 'lgicaf', 'lgicag', 'lgicah', 'lgicai', 'lgicaj', 'lgicak', 'lgical', 'lgicam', 'lgican', 'lgicao', 'lgicap', 'lgicaq', 'lgicar', 'lgicas', 'lgicat', 'lgicau', 'lgicav', 'lgicaw', 'lgicax', 'lgicay', 'lgicaz', 'lgicaà', 'lgicaá', 'lgicaâ', 'lgicaã', 'lgicaé', 'lgicaè', 'lgicaê', 'lgicaí', 'lgicaì', 'lgicaî', 'lgicaó', 'lgicaò', 'lgicaõ', 'lgicaô', 'lgicaú', 'lgicaù', 'lgicaç', 'gica', 'lica', 'lgca', 'lgia', 'lgic', 'lgica', 'agica', 'bgica', 'cgica', 'dgica', 'egica', 'fgica', 'ggica', 'hgica', 'igica', 'jgica', 'kgica', 'lgica', 'mgica', 'ngica', 'ogica', 'pgica', 'qgica', 'rgica', 'sgica', 'tgica', 'ugica', 'vgica', 'wgica', 'xgica', 'ygica', 'zgica', 'àgica', 'ágica', 'âgica', 'ãgica', 'égica', 'ègica', 'êgica', 'ígica', 'ìgica', 'îgica', 'ógica', 'ògica', 'õgica', 'ôgica', 'úgica', 'ùgica', 'çgica', 'laica', 'lbica', 'lcica', 'ldica', 'leica', 'lfica', 'lgica', 'lhica', 'liica', 'ljica', 'lkica', 'llica', 'lmica', 'lnica', 'loica', 'lpica', 'lqica', 'lrica', 'lsica', 'ltica', 'luica', 'lvica', 'lwica', 'lxica', 'lyica', 'lzica', 'làica', 'láica', 'lâica', 'lãica', 'léica', 'lèica', 'lêica', 'líica', 'lìica', 'lîica', 'lóica', 'lòica', 'lõica', 'lôica', 'lúica', 'lùica', 'lçica', 'lgaca', 'lgbca', 'lgcca', 'lgdca', 'lgeca', 'lgfca', 'lggca', 'lghca', 'lgica', 'lgjca', 'lgkca', 'lglca', 'lgmca', 'lgnca', 'lgoca', 'lgpca', 'lgqca', 'lgrca', 'lgsca', 'lgtca', 'lguca', 'lgvca', 'lgwca', 'lgxca', 'lgyca', 'lgzca', 'lgàca', 'lgáca', 'lgâca', 'lgãca', 'lgéca', 'lgèca', 'lgêca', 'lgíca', 'lgìca', 'lgîca', 'lgóca', 'lgòca', 'lgõca', 'lgôca', 'lgúca', 'lgùca', 'lgçca', 'lgiaa', 'lgiba', 'lgica', 'lgida', 'lgiea', 'lgifa', 'lgiga', 'lgiha', 'lgiia', 'lgija', 'lgika', 'lgila', 'lgima', 'lgina', 'lgioa', 'lgipa', 'lgiqa', 'lgira', 'lgisa', 'lgita', 'lgiua', 'lgiva', 'lgiwa', 'lgixa', 'lgiya', 'lgiza', 'lgiàa', 'lgiáa', 'lgiâa', 'lgiãa', 'lgiéa', 'lgièa', 'lgiêa', 'lgiía', 'lgiìa', 'lgiîa', 'lgióa', 'lgiòa', 'lgiõa', 'lgiôa', 'lgiúa', 'lgiùa', 'lgiça', 'lgica', 'lgicb', 'lgicc', 'lgicd', 'lgice', 'lgicf', 'lgicg', 'lgich', 'lgici', 'lgicj', 'lgick', 'lgicl', 'lgicm', 'lgicn', 'lgico', 'lgicp', 'lgicq', 'lgicr', 'lgics', 'lgict', 'lgicu', 'lgicv', 'lgicw', 'lgicx', 'lgicy', 'lgicz', 'lgicà', 'lgicá', 'lgicâ', 'lgicã', 'lgicé', 'lgicè', 'lgicê', 'lgicí', 'lgicì', 'lgicî', 'lgicó', 'lgicò', 'lgicõ', 'lgicô', 'lgicú', 'lgicù', 'lgicç', 'lgicaa', 'lgicab', 'lgicac', 'lgicad', 'lgicae', 'lgicaf', 'lgicag', 'lgicah', 'lgicai', 'lgicaj', 'lgicak', 'lgical', 'lgicam', 'lgican', 'lgicao', 'lgicap', 'lgicaq', 'lgicar', 'lgicas', 'lgicat', 'lgicau', 'lgicav', 'lgicaw', 'lgicax', 'lgicay', 'lgicaz', 'lgicaà', 'lgicaá', 'lgicaâ', 'lgicaã', 'lgicaé', 'lgicaè', 'lgicaê', 'lgicaí', 'lgicaì', 'lgicaî', 'lgicaó', 'lgicaò', 'lgicaõ', 'lgicaô', 'lgicaú', 'lgicaù', 'lgicaç', 'glica', 'ligca', 'lgcia', 'lgiac']\n",
            "\n",
            "O termo lógica se encontra na posição: 79 da lista gerada\n"
          ]
        }
      ]
    },
    {
      "cell_type": "markdown",
      "source": [
        "####Criando uma função para calcular o frequência de uso de determinado termo"
      ],
      "metadata": {
        "id": "6HW9fbkyunMX"
      }
    },
    {
      "cell_type": "code",
      "source": [
        "total_palavras = len(lista_normalizada)\n",
        "\n",
        "frequencia = nltk.FreqDist(lista_normalizada)\n",
        "\n",
        "def probabilidade(palavra_gerada):\n",
        "  return frequencia[palavra_gerada]/total_palavras"
      ],
      "metadata": {
        "id": "1O8tBupZus_H"
      },
      "execution_count": 197,
      "outputs": []
    },
    {
      "cell_type": "markdown",
      "source": [
        "####Criando uma função para selecionar, dentre os termos gerados, o termo correto"
      ],
      "metadata": {
        "id": "lxHCmx5tqgrA"
      }
    },
    {
      "cell_type": "code",
      "source": [
        "def corretor(palavra):\n",
        "  palavras_geradas = gerador_palavras(palavra)\n",
        "  palavra_correta = max(palavras_geradas, key=probabilidade)\n",
        "  return palavra_correta"
      ],
      "metadata": {
        "id": "tnLxwqx8onf9"
      },
      "execution_count": 198,
      "outputs": []
    },
    {
      "cell_type": "markdown",
      "source": [
        "Fazendo a verificação das funções criadas"
      ],
      "metadata": {
        "id": "QATb3f4uvxBf"
      }
    },
    {
      "cell_type": "code",
      "source": [
        "corretor('lgica')"
      ],
      "metadata": {
        "colab": {
          "base_uri": "https://localhost:8080/",
          "height": 35
        },
        "id": "UeHJBX11uSXi",
        "outputId": "dc3a5d03-0c6e-4225-d130-1609e6485ab7"
      },
      "execution_count": 199,
      "outputs": [
        {
          "output_type": "execute_result",
          "data": {
            "text/plain": [
              "'lógica'"
            ],
            "application/vnd.google.colaboratory.intrinsic+json": {
              "type": "string"
            }
          },
          "metadata": {},
          "execution_count": 199
        }
      ]
    },
    {
      "cell_type": "markdown",
      "source": [
        "Por enquanto é possível corrigir apenas uma letra faltante"
      ],
      "metadata": {
        "id": "CN2KC4FpwIG_"
      }
    },
    {
      "cell_type": "markdown",
      "source": [
        "####Avaliando a qualidade da correção"
      ],
      "metadata": {
        "id": "beTN1R3ZwPaT"
      }
    },
    {
      "cell_type": "markdown",
      "source": [
        "#####Criando uma função que gera uma lista de palavras para teste"
      ],
      "metadata": {
        "id": "LVC5X9Tdwnoo"
      }
    },
    {
      "cell_type": "code",
      "source": [
        "def cria_dados_teste(nome_arquivo):\n",
        "  lista_palavras_teste = []\n",
        "  f = open(nome_arquivo,'r')\n",
        "  for linha in f:\n",
        "    correta, errada = linha.split()\n",
        "    lista_palavras_teste.append((correta, errada))\n",
        "  f.close()    \n",
        "  return lista_palavras_teste"
      ],
      "metadata": {
        "id": "haBiZVyCws6-"
      },
      "execution_count": 200,
      "outputs": []
    },
    {
      "cell_type": "markdown",
      "source": [
        "Testando a função criada e imprimindo os 10 primeiros termos"
      ],
      "metadata": {
        "id": "cMk8QtSBxuMM"
      }
    },
    {
      "cell_type": "code",
      "source": [
        "lista_teste = cria_dados_teste('/content/drive/MyDrive/Base de dados/Corretor/palavras.txt')\n",
        "lista_teste[:10]"
      ],
      "metadata": {
        "colab": {
          "base_uri": "https://localhost:8080/"
        },
        "id": "WewBleiIxWDq",
        "outputId": "b5f29dd0-ef84-4daf-ba23-0fa20cd711eb"
      },
      "execution_count": 201,
      "outputs": [
        {
          "output_type": "execute_result",
          "data": {
            "text/plain": [
              "[('podemos', 'pyodemos'),\n",
              " ('esse', 'esje'),\n",
              " ('já', 'jrá'),\n",
              " ('nosso', 'nossov'),\n",
              " ('são', 'sãêo'),\n",
              " ('dos', 'dosa'),\n",
              " ('muito', 'muifo'),\n",
              " ('imagem', 'iômagem'),\n",
              " ('sua', 'ósua'),\n",
              " ('também', 'tambéùm')]"
            ]
          },
          "metadata": {},
          "execution_count": 201
        }
      ]
    },
    {
      "cell_type": "markdown",
      "source": [
        "#####Criando uma função que avalia a qualidade da correção"
      ],
      "metadata": {
        "id": "qDDlRAuox3at"
      }
    },
    {
      "cell_type": "code",
      "source": [
        "def avaliador(testes):\n",
        "  numero_palavras = len(testes)\n",
        "  acertou = 0\n",
        "  for correta, errada in testes:\n",
        "    palavra_corrigida = corretor(errada)\n",
        "    if palavra_corrigida == correta:\n",
        "      acertou += 1\n",
        "  taxa_acerto = round(((acertou / numero_palavras)*100),3)\n",
        "  print(f'A taxa de acerto do corretor é de: {taxa_acerto}%, com um total de {numero_palavras} palavras')"
      ],
      "metadata": {
        "id": "JA9F58VtvhDk"
      },
      "execution_count": 202,
      "outputs": []
    },
    {
      "cell_type": "markdown",
      "source": [
        "Avaliando a função criada"
      ],
      "metadata": {
        "id": "B82HkmS5zyXx"
      }
    },
    {
      "cell_type": "code",
      "source": [
        "avaliador(lista_teste)"
      ],
      "metadata": {
        "colab": {
          "base_uri": "https://localhost:8080/"
        },
        "id": "LDxtfmVjykNZ",
        "outputId": "ff52ed8e-21b2-485a-af61-00258599cd39"
      },
      "execution_count": 203,
      "outputs": [
        {
          "output_type": "stream",
          "name": "stdout",
          "text": [
            "A taxa de acerto do corretor é de: 76.344%, com um total de 186 palavras\n"
          ]
        }
      ]
    },
    {
      "cell_type": "markdown",
      "source": [
        "####Criando uma função para excluir uma letra em cada termo analisado"
      ],
      "metadata": {
        "id": "zqKbUOf604Wg"
      }
    },
    {
      "cell_type": "code",
      "source": [
        "def deletando_caracteres(fatias):\n",
        "  novas_palavras = []\n",
        "  for E,D in fatias:\n",
        "    novas_palavras.append(E + D[1:])\n",
        "  return novas_palavras"
      ],
      "metadata": {
        "id": "PoJcjH_MyqZ0"
      },
      "execution_count": 204,
      "outputs": []
    },
    {
      "cell_type": "markdown",
      "source": [
        "Avaliando a função criada"
      ],
      "metadata": {
        "id": "VZGJ2DRz2RjC"
      }
    },
    {
      "cell_type": "code",
      "source": [
        "gerador_palavras('lóigica')\n",
        "print(palavras_geradas)\n",
        "print('\\nO termo lógica se encontra na posição: {} da lista gerada'.format(palavras_geradas.index('lógica')))"
      ],
      "metadata": {
        "colab": {
          "base_uri": "https://localhost:8080/"
        },
        "id": "A759VvPv1cpJ",
        "outputId": "71d6a103-21fc-4df6-fa46-b3c87ddb857b"
      },
      "execution_count": 205,
      "outputs": [
        {
          "output_type": "stream",
          "name": "stdout",
          "text": [
            "['algica', 'blgica', 'clgica', 'dlgica', 'elgica', 'flgica', 'glgica', 'hlgica', 'ilgica', 'jlgica', 'klgica', 'llgica', 'mlgica', 'nlgica', 'olgica', 'plgica', 'qlgica', 'rlgica', 'slgica', 'tlgica', 'ulgica', 'vlgica', 'wlgica', 'xlgica', 'ylgica', 'zlgica', 'àlgica', 'álgica', 'âlgica', 'ãlgica', 'élgica', 'èlgica', 'êlgica', 'ílgica', 'ìlgica', 'îlgica', 'ólgica', 'òlgica', 'õlgica', 'ôlgica', 'úlgica', 'ùlgica', 'çlgica', 'lagica', 'lbgica', 'lcgica', 'ldgica', 'legica', 'lfgica', 'lggica', 'lhgica', 'ligica', 'ljgica', 'lkgica', 'llgica', 'lmgica', 'lngica', 'logica', 'lpgica', 'lqgica', 'lrgica', 'lsgica', 'ltgica', 'lugica', 'lvgica', 'lwgica', 'lxgica', 'lygica', 'lzgica', 'làgica', 'lágica', 'lâgica', 'lãgica', 'légica', 'lègica', 'lêgica', 'lígica', 'lìgica', 'lîgica', 'lógica', 'lògica', 'lõgica', 'lôgica', 'lúgica', 'lùgica', 'lçgica', 'lgaica', 'lgbica', 'lgcica', 'lgdica', 'lgeica', 'lgfica', 'lggica', 'lghica', 'lgiica', 'lgjica', 'lgkica', 'lglica', 'lgmica', 'lgnica', 'lgoica', 'lgpica', 'lgqica', 'lgrica', 'lgsica', 'lgtica', 'lguica', 'lgvica', 'lgwica', 'lgxica', 'lgyica', 'lgzica', 'lgàica', 'lgáica', 'lgâica', 'lgãica', 'lgéica', 'lgèica', 'lgêica', 'lgíica', 'lgìica', 'lgîica', 'lgóica', 'lgòica', 'lgõica', 'lgôica', 'lgúica', 'lgùica', 'lgçica', 'lgiaca', 'lgibca', 'lgicca', 'lgidca', 'lgieca', 'lgifca', 'lgigca', 'lgihca', 'lgiica', 'lgijca', 'lgikca', 'lgilca', 'lgimca', 'lginca', 'lgioca', 'lgipca', 'lgiqca', 'lgirca', 'lgisca', 'lgitca', 'lgiuca', 'lgivca', 'lgiwca', 'lgixca', 'lgiyca', 'lgizca', 'lgiàca', 'lgiáca', 'lgiâca', 'lgiãca', 'lgiéca', 'lgièca', 'lgiêca', 'lgiíca', 'lgiìca', 'lgiîca', 'lgióca', 'lgiòca', 'lgiõca', 'lgiôca', 'lgiúca', 'lgiùca', 'lgiçca', 'lgicaa', 'lgicba', 'lgicca', 'lgicda', 'lgicea', 'lgicfa', 'lgicga', 'lgicha', 'lgicia', 'lgicja', 'lgicka', 'lgicla', 'lgicma', 'lgicna', 'lgicoa', 'lgicpa', 'lgicqa', 'lgicra', 'lgicsa', 'lgicta', 'lgicua', 'lgicva', 'lgicwa', 'lgicxa', 'lgicya', 'lgicza', 'lgicàa', 'lgicáa', 'lgicâa', 'lgicãa', 'lgicéa', 'lgicèa', 'lgicêa', 'lgicía', 'lgicìa', 'lgicîa', 'lgicóa', 'lgicòa', 'lgicõa', 'lgicôa', 'lgicúa', 'lgicùa', 'lgicça', 'lgicaa', 'lgicab', 'lgicac', 'lgicad', 'lgicae', 'lgicaf', 'lgicag', 'lgicah', 'lgicai', 'lgicaj', 'lgicak', 'lgical', 'lgicam', 'lgican', 'lgicao', 'lgicap', 'lgicaq', 'lgicar', 'lgicas', 'lgicat', 'lgicau', 'lgicav', 'lgicaw', 'lgicax', 'lgicay', 'lgicaz', 'lgicaà', 'lgicaá', 'lgicaâ', 'lgicaã', 'lgicaé', 'lgicaè', 'lgicaê', 'lgicaí', 'lgicaì', 'lgicaî', 'lgicaó', 'lgicaò', 'lgicaõ', 'lgicaô', 'lgicaú', 'lgicaù', 'lgicaç', 'gica', 'lica', 'lgca', 'lgia', 'lgic', 'lgica', 'agica', 'bgica', 'cgica', 'dgica', 'egica', 'fgica', 'ggica', 'hgica', 'igica', 'jgica', 'kgica', 'lgica', 'mgica', 'ngica', 'ogica', 'pgica', 'qgica', 'rgica', 'sgica', 'tgica', 'ugica', 'vgica', 'wgica', 'xgica', 'ygica', 'zgica', 'àgica', 'ágica', 'âgica', 'ãgica', 'égica', 'ègica', 'êgica', 'ígica', 'ìgica', 'îgica', 'ógica', 'ògica', 'õgica', 'ôgica', 'úgica', 'ùgica', 'çgica', 'laica', 'lbica', 'lcica', 'ldica', 'leica', 'lfica', 'lgica', 'lhica', 'liica', 'ljica', 'lkica', 'llica', 'lmica', 'lnica', 'loica', 'lpica', 'lqica', 'lrica', 'lsica', 'ltica', 'luica', 'lvica', 'lwica', 'lxica', 'lyica', 'lzica', 'làica', 'láica', 'lâica', 'lãica', 'léica', 'lèica', 'lêica', 'líica', 'lìica', 'lîica', 'lóica', 'lòica', 'lõica', 'lôica', 'lúica', 'lùica', 'lçica', 'lgaca', 'lgbca', 'lgcca', 'lgdca', 'lgeca', 'lgfca', 'lggca', 'lghca', 'lgica', 'lgjca', 'lgkca', 'lglca', 'lgmca', 'lgnca', 'lgoca', 'lgpca', 'lgqca', 'lgrca', 'lgsca', 'lgtca', 'lguca', 'lgvca', 'lgwca', 'lgxca', 'lgyca', 'lgzca', 'lgàca', 'lgáca', 'lgâca', 'lgãca', 'lgéca', 'lgèca', 'lgêca', 'lgíca', 'lgìca', 'lgîca', 'lgóca', 'lgòca', 'lgõca', 'lgôca', 'lgúca', 'lgùca', 'lgçca', 'lgiaa', 'lgiba', 'lgica', 'lgida', 'lgiea', 'lgifa', 'lgiga', 'lgiha', 'lgiia', 'lgija', 'lgika', 'lgila', 'lgima', 'lgina', 'lgioa', 'lgipa', 'lgiqa', 'lgira', 'lgisa', 'lgita', 'lgiua', 'lgiva', 'lgiwa', 'lgixa', 'lgiya', 'lgiza', 'lgiàa', 'lgiáa', 'lgiâa', 'lgiãa', 'lgiéa', 'lgièa', 'lgiêa', 'lgiía', 'lgiìa', 'lgiîa', 'lgióa', 'lgiòa', 'lgiõa', 'lgiôa', 'lgiúa', 'lgiùa', 'lgiça', 'lgica', 'lgicb', 'lgicc', 'lgicd', 'lgice', 'lgicf', 'lgicg', 'lgich', 'lgici', 'lgicj', 'lgick', 'lgicl', 'lgicm', 'lgicn', 'lgico', 'lgicp', 'lgicq', 'lgicr', 'lgics', 'lgict', 'lgicu', 'lgicv', 'lgicw', 'lgicx', 'lgicy', 'lgicz', 'lgicà', 'lgicá', 'lgicâ', 'lgicã', 'lgicé', 'lgicè', 'lgicê', 'lgicí', 'lgicì', 'lgicî', 'lgicó', 'lgicò', 'lgicõ', 'lgicô', 'lgicú', 'lgicù', 'lgicç', 'lgicaa', 'lgicab', 'lgicac', 'lgicad', 'lgicae', 'lgicaf', 'lgicag', 'lgicah', 'lgicai', 'lgicaj', 'lgicak', 'lgical', 'lgicam', 'lgican', 'lgicao', 'lgicap', 'lgicaq', 'lgicar', 'lgicas', 'lgicat', 'lgicau', 'lgicav', 'lgicaw', 'lgicax', 'lgicay', 'lgicaz', 'lgicaà', 'lgicaá', 'lgicaâ', 'lgicaã', 'lgicaé', 'lgicaè', 'lgicaê', 'lgicaí', 'lgicaì', 'lgicaî', 'lgicaó', 'lgicaò', 'lgicaõ', 'lgicaô', 'lgicaú', 'lgicaù', 'lgicaç', 'glica', 'ligca', 'lgcia', 'lgiac']\n",
            "\n",
            "O termo lógica se encontra na posição: 79 da lista gerada\n"
          ]
        }
      ]
    },
    {
      "cell_type": "markdown",
      "source": [
        "Avaliando a qualidade da correção"
      ],
      "metadata": {
        "id": "bJ1GIdr32vPK"
      }
    },
    {
      "cell_type": "code",
      "source": [
        "avaliador(lista_teste)"
      ],
      "metadata": {
        "colab": {
          "base_uri": "https://localhost:8080/"
        },
        "id": "AWyJpLoe2LT8",
        "outputId": "3cfe541f-653c-4f50-9cbe-bf03cb0e5778"
      },
      "execution_count": 206,
      "outputs": [
        {
          "output_type": "stream",
          "name": "stdout",
          "text": [
            "A taxa de acerto do corretor é de: 76.344%, com um total de 186 palavras\n"
          ]
        }
      ]
    },
    {
      "cell_type": "markdown",
      "source": [
        "####Criando uma função para substituir uma letra errada"
      ],
      "metadata": {
        "id": "ofs4QjaX-Tqf"
      }
    },
    {
      "cell_type": "code",
      "source": [
        "def troca_letra(fatias):\n",
        "  novas_palavras = []\n",
        "  letras = 'abcdefghijklmnopqrstuvwxyzàáâãéèêíìîóòõôúùç'\n",
        "  for E,D in fatias:\n",
        "    for letra in letras:\n",
        "      novas_palavras.append(E + letra + D[1:])\n",
        "  return novas_palavras"
      ],
      "metadata": {
        "id": "C0KZWZli2Vgs"
      },
      "execution_count": 207,
      "outputs": []
    },
    {
      "cell_type": "markdown",
      "source": [
        "Testando a função criada"
      ],
      "metadata": {
        "id": "Bb_5FDmA_kr0"
      }
    },
    {
      "cell_type": "code",
      "source": [
        "palavras_geradas = gerador_palavras('lígica')\n",
        "print(palavras_geradas)\n",
        "print('\\nO termo lógica se encontra na posição: {} da lista gerada'.format(palavras_geradas.index('lógica')))"
      ],
      "metadata": {
        "colab": {
          "base_uri": "https://localhost:8080/"
        },
        "id": "Kosq16k__hkt",
        "outputId": "d5a5b16f-4f01-4e0e-de9d-52afa3404dc3"
      },
      "execution_count": 208,
      "outputs": [
        {
          "output_type": "stream",
          "name": "stdout",
          "text": [
            "['alígica', 'blígica', 'clígica', 'dlígica', 'elígica', 'flígica', 'glígica', 'hlígica', 'ilígica', 'jlígica', 'klígica', 'llígica', 'mlígica', 'nlígica', 'olígica', 'plígica', 'qlígica', 'rlígica', 'slígica', 'tlígica', 'ulígica', 'vlígica', 'wlígica', 'xlígica', 'ylígica', 'zlígica', 'àlígica', 'álígica', 'âlígica', 'ãlígica', 'élígica', 'èlígica', 'êlígica', 'ílígica', 'ìlígica', 'îlígica', 'ólígica', 'òlígica', 'õlígica', 'ôlígica', 'úlígica', 'ùlígica', 'çlígica', 'laígica', 'lbígica', 'lcígica', 'ldígica', 'leígica', 'lfígica', 'lgígica', 'lhígica', 'liígica', 'ljígica', 'lkígica', 'llígica', 'lmígica', 'lnígica', 'loígica', 'lpígica', 'lqígica', 'lrígica', 'lsígica', 'ltígica', 'luígica', 'lvígica', 'lwígica', 'lxígica', 'lyígica', 'lzígica', 'làígica', 'láígica', 'lâígica', 'lãígica', 'léígica', 'lèígica', 'lêígica', 'líígica', 'lìígica', 'lîígica', 'lóígica', 'lòígica', 'lõígica', 'lôígica', 'lúígica', 'lùígica', 'lçígica', 'líagica', 'líbgica', 'lícgica', 'lídgica', 'líegica', 'lífgica', 'líggica', 'líhgica', 'líigica', 'líjgica', 'líkgica', 'lílgica', 'límgica', 'língica', 'líogica', 'lípgica', 'líqgica', 'lírgica', 'lísgica', 'lítgica', 'líugica', 'lívgica', 'líwgica', 'líxgica', 'líygica', 'lízgica', 'líàgica', 'líágica', 'líâgica', 'líãgica', 'líégica', 'líègica', 'líêgica', 'líígica', 'líìgica', 'líîgica', 'líógica', 'líògica', 'líõgica', 'líôgica', 'líúgica', 'líùgica', 'líçgica', 'lígaica', 'lígbica', 'lígcica', 'lígdica', 'lígeica', 'lígfica', 'líggica', 'líghica', 'lígiica', 'lígjica', 'lígkica', 'líglica', 'lígmica', 'lígnica', 'lígoica', 'lígpica', 'lígqica', 'lígrica', 'lígsica', 'lígtica', 'líguica', 'lígvica', 'lígwica', 'lígxica', 'lígyica', 'lígzica', 'lígàica', 'lígáica', 'lígâica', 'lígãica', 'lígéica', 'lígèica', 'lígêica', 'lígíica', 'lígìica', 'lígîica', 'lígóica', 'lígòica', 'lígõica', 'lígôica', 'lígúica', 'lígùica', 'lígçica', 'lígiaca', 'lígibca', 'lígicca', 'lígidca', 'lígieca', 'lígifca', 'lígigca', 'lígihca', 'lígiica', 'lígijca', 'lígikca', 'lígilca', 'lígimca', 'líginca', 'lígioca', 'lígipca', 'lígiqca', 'lígirca', 'lígisca', 'lígitca', 'lígiuca', 'lígivca', 'lígiwca', 'lígixca', 'lígiyca', 'lígizca', 'lígiàca', 'lígiáca', 'lígiâca', 'lígiãca', 'lígiéca', 'lígièca', 'lígiêca', 'lígiíca', 'lígiìca', 'lígiîca', 'lígióca', 'lígiòca', 'lígiõca', 'lígiôca', 'lígiúca', 'lígiùca', 'lígiçca', 'lígicaa', 'lígicba', 'lígicca', 'lígicda', 'lígicea', 'lígicfa', 'lígicga', 'lígicha', 'lígicia', 'lígicja', 'lígicka', 'lígicla', 'lígicma', 'lígicna', 'lígicoa', 'lígicpa', 'lígicqa', 'lígicra', 'lígicsa', 'lígicta', 'lígicua', 'lígicva', 'lígicwa', 'lígicxa', 'lígicya', 'lígicza', 'lígicàa', 'lígicáa', 'lígicâa', 'lígicãa', 'lígicéa', 'lígicèa', 'lígicêa', 'lígicía', 'lígicìa', 'lígicîa', 'lígicóa', 'lígicòa', 'lígicõa', 'lígicôa', 'lígicúa', 'lígicùa', 'lígicça', 'lígicaa', 'lígicab', 'lígicac', 'lígicad', 'lígicae', 'lígicaf', 'lígicag', 'lígicah', 'lígicai', 'lígicaj', 'lígicak', 'lígical', 'lígicam', 'lígican', 'lígicao', 'lígicap', 'lígicaq', 'lígicar', 'lígicas', 'lígicat', 'lígicau', 'lígicav', 'lígicaw', 'lígicax', 'lígicay', 'lígicaz', 'lígicaà', 'lígicaá', 'lígicaâ', 'lígicaã', 'lígicaé', 'lígicaè', 'lígicaê', 'lígicaí', 'lígicaì', 'lígicaî', 'lígicaó', 'lígicaò', 'lígicaõ', 'lígicaô', 'lígicaú', 'lígicaù', 'lígicaç', 'ígica', 'lgica', 'líica', 'lígca', 'lígia', 'lígic', 'lígica', 'aígica', 'bígica', 'cígica', 'dígica', 'eígica', 'fígica', 'gígica', 'hígica', 'iígica', 'jígica', 'kígica', 'lígica', 'mígica', 'nígica', 'oígica', 'pígica', 'qígica', 'rígica', 'sígica', 'tígica', 'uígica', 'vígica', 'wígica', 'xígica', 'yígica', 'zígica', 'àígica', 'áígica', 'âígica', 'ãígica', 'éígica', 'èígica', 'êígica', 'íígica', 'ìígica', 'îígica', 'óígica', 'òígica', 'õígica', 'ôígica', 'úígica', 'ùígica', 'çígica', 'lagica', 'lbgica', 'lcgica', 'ldgica', 'legica', 'lfgica', 'lggica', 'lhgica', 'ligica', 'ljgica', 'lkgica', 'llgica', 'lmgica', 'lngica', 'logica', 'lpgica', 'lqgica', 'lrgica', 'lsgica', 'ltgica', 'lugica', 'lvgica', 'lwgica', 'lxgica', 'lygica', 'lzgica', 'làgica', 'lágica', 'lâgica', 'lãgica', 'légica', 'lègica', 'lêgica', 'lígica', 'lìgica', 'lîgica', 'lógica', 'lògica', 'lõgica', 'lôgica', 'lúgica', 'lùgica', 'lçgica', 'líaica', 'líbica', 'lícica', 'lídica', 'líeica', 'lífica', 'lígica', 'líhica', 'líiica', 'líjica', 'líkica', 'lílica', 'límica', 'línica', 'líoica', 'lípica', 'líqica', 'lírica', 'lísica', 'lítica', 'líuica', 'lívica', 'líwica', 'líxica', 'líyica', 'lízica', 'líàica', 'líáica', 'líâica', 'líãica', 'líéica', 'líèica', 'líêica', 'lííica', 'líìica', 'líîica', 'líóica', 'líòica', 'líõica', 'líôica', 'líúica', 'líùica', 'líçica', 'lígaca', 'lígbca', 'lígcca', 'lígdca', 'lígeca', 'lígfca', 'líggca', 'líghca', 'lígica', 'lígjca', 'lígkca', 'líglca', 'lígmca', 'lígnca', 'lígoca', 'lígpca', 'lígqca', 'lígrca', 'lígsca', 'lígtca', 'líguca', 'lígvca', 'lígwca', 'lígxca', 'lígyca', 'lígzca', 'lígàca', 'lígáca', 'lígâca', 'lígãca', 'lígéca', 'lígèca', 'lígêca', 'lígíca', 'lígìca', 'lígîca', 'lígóca', 'lígòca', 'lígõca', 'lígôca', 'lígúca', 'lígùca', 'lígçca', 'lígiaa', 'lígiba', 'lígica', 'lígida', 'lígiea', 'lígifa', 'lígiga', 'lígiha', 'lígiia', 'lígija', 'lígika', 'lígila', 'lígima', 'lígina', 'lígioa', 'lígipa', 'lígiqa', 'lígira', 'lígisa', 'lígita', 'lígiua', 'lígiva', 'lígiwa', 'lígixa', 'lígiya', 'lígiza', 'lígiàa', 'lígiáa', 'lígiâa', 'lígiãa', 'lígiéa', 'lígièa', 'lígiêa', 'lígiía', 'lígiìa', 'lígiîa', 'lígióa', 'lígiòa', 'lígiõa', 'lígiôa', 'lígiúa', 'lígiùa', 'lígiça', 'lígica', 'lígicb', 'lígicc', 'lígicd', 'lígice', 'lígicf', 'lígicg', 'lígich', 'lígici', 'lígicj', 'lígick', 'lígicl', 'lígicm', 'lígicn', 'lígico', 'lígicp', 'lígicq', 'lígicr', 'lígics', 'lígict', 'lígicu', 'lígicv', 'lígicw', 'lígicx', 'lígicy', 'lígicz', 'lígicà', 'lígicá', 'lígicâ', 'lígicã', 'lígicé', 'lígicè', 'lígicê', 'lígicí', 'lígicì', 'lígicî', 'lígicó', 'lígicò', 'lígicõ', 'lígicô', 'lígicú', 'lígicù', 'lígicç', 'lígicaa', 'lígicab', 'lígicac', 'lígicad', 'lígicae', 'lígicaf', 'lígicag', 'lígicah', 'lígicai', 'lígicaj', 'lígicak', 'lígical', 'lígicam', 'lígican', 'lígicao', 'lígicap', 'lígicaq', 'lígicar', 'lígicas', 'lígicat', 'lígicau', 'lígicav', 'lígicaw', 'lígicax', 'lígicay', 'lígicaz', 'lígicaà', 'lígicaá', 'lígicaâ', 'lígicaã', 'lígicaé', 'lígicaè', 'lígicaê', 'lígicaí', 'lígicaì', 'lígicaî', 'lígicaó', 'lígicaò', 'lígicaõ', 'lígicaô', 'lígicaú', 'lígicaù', 'lígicaç', 'ílgica', 'lgíica', 'líigca', 'lígcia', 'lígiac']\n",
            "\n",
            "O termo lógica se encontra na posição: 387 da lista gerada\n"
          ]
        }
      ]
    },
    {
      "cell_type": "markdown",
      "source": [
        "####Criando uma função que troca a posição de duas letras"
      ],
      "metadata": {
        "id": "5J4osoNPA7MK"
      }
    },
    {
      "cell_type": "code",
      "source": [
        "def inverte_letras(fatias):\n",
        "  novas_palavras = []\n",
        "  for E,D in fatias:\n",
        "    if len(D) > 1:\n",
        "      novas_palavras.append(E + D[1] + D[0] + D[2:])\n",
        "  return novas_palavras"
      ],
      "metadata": {
        "id": "F4NW02-7AqvV"
      },
      "execution_count": 209,
      "outputs": []
    },
    {
      "cell_type": "markdown",
      "source": [
        "Testando a função criada"
      ],
      "metadata": {
        "id": "TrU6mkNXO2ya"
      }
    },
    {
      "cell_type": "code",
      "source": [
        "palavras_geradas = gerador_palavras('lógiac')\n",
        "print(palavras_geradas)\n",
        "print('\\nO termo lógica se encontra na posição: {} da lista gerada'.format(palavras_geradas.index('lógica')))"
      ],
      "metadata": {
        "colab": {
          "base_uri": "https://localhost:8080/"
        },
        "id": "RGbUYNpbBYtN",
        "outputId": "bd7b953f-1876-4355-aeda-166e8bbc78c5"
      },
      "execution_count": 210,
      "outputs": [
        {
          "output_type": "stream",
          "name": "stdout",
          "text": [
            "['alógiac', 'blógiac', 'clógiac', 'dlógiac', 'elógiac', 'flógiac', 'glógiac', 'hlógiac', 'ilógiac', 'jlógiac', 'klógiac', 'llógiac', 'mlógiac', 'nlógiac', 'ológiac', 'plógiac', 'qlógiac', 'rlógiac', 'slógiac', 'tlógiac', 'ulógiac', 'vlógiac', 'wlógiac', 'xlógiac', 'ylógiac', 'zlógiac', 'àlógiac', 'álógiac', 'âlógiac', 'ãlógiac', 'élógiac', 'èlógiac', 'êlógiac', 'ílógiac', 'ìlógiac', 'îlógiac', 'ólógiac', 'òlógiac', 'õlógiac', 'ôlógiac', 'úlógiac', 'ùlógiac', 'çlógiac', 'laógiac', 'lbógiac', 'lcógiac', 'ldógiac', 'leógiac', 'lfógiac', 'lgógiac', 'lhógiac', 'liógiac', 'ljógiac', 'lkógiac', 'llógiac', 'lmógiac', 'lnógiac', 'loógiac', 'lpógiac', 'lqógiac', 'lrógiac', 'lsógiac', 'ltógiac', 'luógiac', 'lvógiac', 'lwógiac', 'lxógiac', 'lyógiac', 'lzógiac', 'làógiac', 'láógiac', 'lâógiac', 'lãógiac', 'léógiac', 'lèógiac', 'lêógiac', 'líógiac', 'lìógiac', 'lîógiac', 'lóógiac', 'lòógiac', 'lõógiac', 'lôógiac', 'lúógiac', 'lùógiac', 'lçógiac', 'lóagiac', 'lóbgiac', 'lócgiac', 'lódgiac', 'lóegiac', 'lófgiac', 'lóggiac', 'lóhgiac', 'lóigiac', 'lójgiac', 'lókgiac', 'lólgiac', 'lómgiac', 'lóngiac', 'lóogiac', 'lópgiac', 'lóqgiac', 'lórgiac', 'lósgiac', 'lótgiac', 'lóugiac', 'lóvgiac', 'lówgiac', 'lóxgiac', 'lóygiac', 'lózgiac', 'lóàgiac', 'lóágiac', 'lóâgiac', 'lóãgiac', 'lóégiac', 'lóègiac', 'lóêgiac', 'lóígiac', 'lóìgiac', 'lóîgiac', 'lóógiac', 'lóògiac', 'lóõgiac', 'lóôgiac', 'lóúgiac', 'lóùgiac', 'lóçgiac', 'lógaiac', 'lógbiac', 'lógciac', 'lógdiac', 'lógeiac', 'lógfiac', 'lóggiac', 'lóghiac', 'lógiiac', 'lógjiac', 'lógkiac', 'lógliac', 'lógmiac', 'lógniac', 'lógoiac', 'lógpiac', 'lógqiac', 'lógriac', 'lógsiac', 'lógtiac', 'lóguiac', 'lógviac', 'lógwiac', 'lógxiac', 'lógyiac', 'lógziac', 'lógàiac', 'lógáiac', 'lógâiac', 'lógãiac', 'lógéiac', 'lógèiac', 'lógêiac', 'lógíiac', 'lógìiac', 'lógîiac', 'lógóiac', 'lógòiac', 'lógõiac', 'lógôiac', 'lógúiac', 'lógùiac', 'lógçiac', 'lógiaac', 'lógibac', 'lógicac', 'lógidac', 'lógieac', 'lógifac', 'lógigac', 'lógihac', 'lógiiac', 'lógijac', 'lógikac', 'lógilac', 'lógimac', 'lóginac', 'lógioac', 'lógipac', 'lógiqac', 'lógirac', 'lógisac', 'lógitac', 'lógiuac', 'lógivac', 'lógiwac', 'lógixac', 'lógiyac', 'lógizac', 'lógiàac', 'lógiáac', 'lógiâac', 'lógiãac', 'lógiéac', 'lógièac', 'lógiêac', 'lógiíac', 'lógiìac', 'lógiîac', 'lógióac', 'lógiòac', 'lógiõac', 'lógiôac', 'lógiúac', 'lógiùac', 'lógiçac', 'lógiaac', 'lógiabc', 'lógiacc', 'lógiadc', 'lógiaec', 'lógiafc', 'lógiagc', 'lógiahc', 'lógiaic', 'lógiajc', 'lógiakc', 'lógialc', 'lógiamc', 'lógianc', 'lógiaoc', 'lógiapc', 'lógiaqc', 'lógiarc', 'lógiasc', 'lógiatc', 'lógiauc', 'lógiavc', 'lógiawc', 'lógiaxc', 'lógiayc', 'lógiazc', 'lógiaàc', 'lógiaác', 'lógiaâc', 'lógiaãc', 'lógiaéc', 'lógiaèc', 'lógiaêc', 'lógiaíc', 'lógiaìc', 'lógiaîc', 'lógiaóc', 'lógiaòc', 'lógiaõc', 'lógiaôc', 'lógiaúc', 'lógiaùc', 'lógiaçc', 'lógiaca', 'lógiacb', 'lógiacc', 'lógiacd', 'lógiace', 'lógiacf', 'lógiacg', 'lógiach', 'lógiaci', 'lógiacj', 'lógiack', 'lógiacl', 'lógiacm', 'lógiacn', 'lógiaco', 'lógiacp', 'lógiacq', 'lógiacr', 'lógiacs', 'lógiact', 'lógiacu', 'lógiacv', 'lógiacw', 'lógiacx', 'lógiacy', 'lógiacz', 'lógiacà', 'lógiacá', 'lógiacâ', 'lógiacã', 'lógiacé', 'lógiacè', 'lógiacê', 'lógiací', 'lógiacì', 'lógiacî', 'lógiacó', 'lógiacò', 'lógiacõ', 'lógiacô', 'lógiacú', 'lógiacù', 'lógiacç', 'ógiac', 'lgiac', 'lóiac', 'lógac', 'lógic', 'lógia', 'lógiac', 'aógiac', 'bógiac', 'cógiac', 'dógiac', 'eógiac', 'fógiac', 'gógiac', 'hógiac', 'iógiac', 'jógiac', 'kógiac', 'lógiac', 'mógiac', 'nógiac', 'oógiac', 'pógiac', 'qógiac', 'rógiac', 'sógiac', 'tógiac', 'uógiac', 'vógiac', 'wógiac', 'xógiac', 'yógiac', 'zógiac', 'àógiac', 'áógiac', 'âógiac', 'ãógiac', 'éógiac', 'èógiac', 'êógiac', 'íógiac', 'ìógiac', 'îógiac', 'óógiac', 'òógiac', 'õógiac', 'ôógiac', 'úógiac', 'ùógiac', 'çógiac', 'lagiac', 'lbgiac', 'lcgiac', 'ldgiac', 'legiac', 'lfgiac', 'lggiac', 'lhgiac', 'ligiac', 'ljgiac', 'lkgiac', 'llgiac', 'lmgiac', 'lngiac', 'logiac', 'lpgiac', 'lqgiac', 'lrgiac', 'lsgiac', 'ltgiac', 'lugiac', 'lvgiac', 'lwgiac', 'lxgiac', 'lygiac', 'lzgiac', 'làgiac', 'lágiac', 'lâgiac', 'lãgiac', 'légiac', 'lègiac', 'lêgiac', 'lígiac', 'lìgiac', 'lîgiac', 'lógiac', 'lògiac', 'lõgiac', 'lôgiac', 'lúgiac', 'lùgiac', 'lçgiac', 'lóaiac', 'lóbiac', 'lóciac', 'lódiac', 'lóeiac', 'lófiac', 'lógiac', 'lóhiac', 'lóiiac', 'lójiac', 'lókiac', 'lóliac', 'lómiac', 'lóniac', 'lóoiac', 'lópiac', 'lóqiac', 'lóriac', 'lósiac', 'lótiac', 'lóuiac', 'lóviac', 'lówiac', 'lóxiac', 'lóyiac', 'lóziac', 'lóàiac', 'lóáiac', 'lóâiac', 'lóãiac', 'lóéiac', 'lóèiac', 'lóêiac', 'lóíiac', 'lóìiac', 'lóîiac', 'lóóiac', 'lóòiac', 'lóõiac', 'lóôiac', 'lóúiac', 'lóùiac', 'lóçiac', 'lógaac', 'lógbac', 'lógcac', 'lógdac', 'lógeac', 'lógfac', 'lóggac', 'lóghac', 'lógiac', 'lógjac', 'lógkac', 'lóglac', 'lógmac', 'lógnac', 'lógoac', 'lógpac', 'lógqac', 'lógrac', 'lógsac', 'lógtac', 'lóguac', 'lógvac', 'lógwac', 'lógxac', 'lógyac', 'lógzac', 'lógàac', 'lógáac', 'lógâac', 'lógãac', 'lógéac', 'lógèac', 'lógêac', 'lógíac', 'lógìac', 'lógîac', 'lógóac', 'lógòac', 'lógõac', 'lógôac', 'lógúac', 'lógùac', 'lógçac', 'lógiac', 'lógibc', 'lógicc', 'lógidc', 'lógiec', 'lógifc', 'lógigc', 'lógihc', 'lógiic', 'lógijc', 'lógikc', 'lógilc', 'lógimc', 'lóginc', 'lógioc', 'lógipc', 'lógiqc', 'lógirc', 'lógisc', 'lógitc', 'lógiuc', 'lógivc', 'lógiwc', 'lógixc', 'lógiyc', 'lógizc', 'lógiàc', 'lógiác', 'lógiâc', 'lógiãc', 'lógiéc', 'lógièc', 'lógiêc', 'lógiíc', 'lógiìc', 'lógiîc', 'lógióc', 'lógiòc', 'lógiõc', 'lógiôc', 'lógiúc', 'lógiùc', 'lógiçc', 'lógiaa', 'lógiab', 'lógiac', 'lógiad', 'lógiae', 'lógiaf', 'lógiag', 'lógiah', 'lógiai', 'lógiaj', 'lógiak', 'lógial', 'lógiam', 'lógian', 'lógiao', 'lógiap', 'lógiaq', 'lógiar', 'lógias', 'lógiat', 'lógiau', 'lógiav', 'lógiaw', 'lógiax', 'lógiay', 'lógiaz', 'lógiaà', 'lógiaá', 'lógiaâ', 'lógiaã', 'lógiaé', 'lógiaè', 'lógiaê', 'lógiaí', 'lógiaì', 'lógiaî', 'lógiaó', 'lógiaò', 'lógiaõ', 'lógiaô', 'lógiaú', 'lógiaù', 'lógiaç', 'lógiaca', 'lógiacb', 'lógiacc', 'lógiacd', 'lógiace', 'lógiacf', 'lógiacg', 'lógiach', 'lógiaci', 'lógiacj', 'lógiack', 'lógiacl', 'lógiacm', 'lógiacn', 'lógiaco', 'lógiacp', 'lógiacq', 'lógiacr', 'lógiacs', 'lógiact', 'lógiacu', 'lógiacv', 'lógiacw', 'lógiacx', 'lógiacy', 'lógiacz', 'lógiacà', 'lógiacá', 'lógiacâ', 'lógiacã', 'lógiacé', 'lógiacè', 'lógiacê', 'lógiací', 'lógiacì', 'lógiacî', 'lógiacó', 'lógiacò', 'lógiacõ', 'lógiacô', 'lógiacú', 'lógiacù', 'lógiacç', 'ólgiac', 'lgóiac', 'lóigac', 'lógaic', 'lógica']\n",
            "\n",
            "O termo lógica se encontra na posição: 613 da lista gerada\n"
          ]
        }
      ]
    },
    {
      "cell_type": "code",
      "source": [
        "avaliador(lista_teste)"
      ],
      "metadata": {
        "colab": {
          "base_uri": "https://localhost:8080/"
        },
        "id": "kmsOxnRBBq3V",
        "outputId": "b3dbf0a8-9db1-4e82-e4c1-9986ee6eae76"
      },
      "execution_count": 211,
      "outputs": [
        {
          "output_type": "stream",
          "name": "stdout",
          "text": [
            "A taxa de acerto do corretor é de: 76.344%, com um total de 186 palavras\n"
          ]
        }
      ]
    },
    {
      "cell_type": "markdown",
      "source": [
        "###Avaliando o que conhecemos de palavras"
      ],
      "metadata": {
        "id": "JIAeNSPBUOy5"
      }
    },
    {
      "cell_type": "markdown",
      "source": [
        "Melhorando a função 'avaliador', incluindo um contador para mostrar quantos termos (em porcentagem) são desconhecidos."
      ],
      "metadata": {
        "id": "haexy-G3UcaY"
      }
    },
    {
      "cell_type": "code",
      "source": [
        "def avaliador(testes, vocabulario):\n",
        "  numero_palavras = len(testes)\n",
        "  acertou = 0\n",
        "  desconhecida = 0\n",
        "  for correta, errada in testes:\n",
        "    palavra_corrigida = corretor(errada)\n",
        "    if palavra_corrigida == correta:\n",
        "      acertou += 1\n",
        "    else:\n",
        "      desconhecida += (correta not in vocabulario)\n",
        "  taxa_acerto = round(((acertou / numero_palavras)*100),3)\n",
        "  taxa_desconhecida = round(((desconhecida / numero_palavras)*100),3)\n",
        "  print(f'A taxa de acerto do corretor é de: {taxa_acerto}%, com um total de {numero_palavras} palavras')\n",
        "  print(f'A taxa de termos desconhecidos é de: {taxa_desconhecida}%')\n",
        "\n",
        "vocabulario = set(lista_normalizada)\n",
        "avaliador(lista_teste, vocabulario)"
      ],
      "metadata": {
        "colab": {
          "base_uri": "https://localhost:8080/"
        },
        "id": "s-mEMjWAMT8Z",
        "outputId": "27407c28-3c74-4a23-c7a9-779fb88ce4c1"
      },
      "execution_count": 215,
      "outputs": [
        {
          "output_type": "stream",
          "name": "stdout",
          "text": [
            "A taxa de acerto do corretor é de: 76.344%, com um total de 186 palavras\n",
            "A taxa de termos desconhecidos é de: 6.989%\n"
          ]
        }
      ]
    },
    {
      "cell_type": "markdown",
      "source": [
        "###Criando uma função que apaga duas letras"
      ],
      "metadata": {
        "id": "nINWcvB7Vv_l"
      }
    },
    {
      "cell_type": "code",
      "source": [
        "def gerador_turbinado(palavras_geradas):\n",
        "  novas_palavras = []\n",
        "  for palavra in palavras_geradas:\n",
        "    novas_palavras += gerador_palavras(palavra)\n",
        "  return novas_palavras"
      ],
      "metadata": {
        "id": "4nfGRF6JVLsJ"
      },
      "execution_count": 216,
      "outputs": []
    },
    {
      "cell_type": "markdown",
      "source": [
        "Verificando o funcionamento da função criada"
      ],
      "metadata": {
        "id": "sCrhK9p1WceN"
      }
    },
    {
      "cell_type": "code",
      "source": [
        "palavras_g = gerador_turbinado(gerador_palavras('lóiigica'))\n",
        "'lógica' in palavras_g"
      ],
      "metadata": {
        "colab": {
          "base_uri": "https://localhost:8080/"
        },
        "id": "E_1lma13WO0d",
        "outputId": "21349c0f-85f1-4176-9f9e-f1b5846be24d"
      },
      "execution_count": 219,
      "outputs": [
        {
          "output_type": "execute_result",
          "data": {
            "text/plain": [
              "True"
            ]
          },
          "metadata": {},
          "execution_count": 219
        }
      ]
    },
    {
      "cell_type": "markdown",
      "source": [
        "##Melhorias"
      ],
      "metadata": {
        "id": "6hUI-V7Rbn6y"
      }
    },
    {
      "cell_type": "markdown",
      "source": [
        "###Melhorando a função corretor"
      ],
      "metadata": {
        "id": "ydrUURadY8xh"
      }
    },
    {
      "cell_type": "code",
      "source": [
        "def novo_corretor(palavra):\n",
        "  palavras_geradas = gerador_palavras(palavra)\n",
        "  palavras_turbinado = gerador_turbinado(palavras_geradas)\n",
        "  todas_palavras = set(palavras_geradas + palavras_turbinado)\n",
        "  candidatos =[palavra]\n",
        "  for palavra in todas_palavras:\n",
        "    if palavra in vocabulario:\n",
        "      candidatos.append(palavra)\n",
        "  palavra_correta = max(candidatos, key = probabilidade)\n",
        "  return palavra_correta"
      ],
      "metadata": {
        "id": "3TF_YBplWjxJ"
      },
      "execution_count": 224,
      "outputs": []
    },
    {
      "cell_type": "markdown",
      "source": [
        "Verificando a modificação realizada"
      ],
      "metadata": {
        "id": "BiRESnUTaDfO"
      }
    },
    {
      "cell_type": "code",
      "source": [
        "novo_corretor('lióigica')"
      ],
      "metadata": {
        "colab": {
          "base_uri": "https://localhost:8080/",
          "height": 35
        },
        "id": "12oJN9cxZ3ut",
        "outputId": "cff786f7-bd29-4ca1-8280-3563c3115576"
      },
      "execution_count": 225,
      "outputs": [
        {
          "output_type": "execute_result",
          "data": {
            "text/plain": [
              "'lógica'"
            ],
            "application/vnd.google.colaboratory.intrinsic+json": {
              "type": "string"
            }
          },
          "metadata": {},
          "execution_count": 225
        }
      ]
    },
    {
      "cell_type": "markdown",
      "source": [
        "###Melhorando a função avaliador"
      ],
      "metadata": {
        "id": "fMqtBeC1bhet"
      }
    },
    {
      "cell_type": "code",
      "source": [
        "def avaliador(testes, vocabulario):\n",
        "  numero_palavras = len(testes)\n",
        "  acertou = 0\n",
        "  desconhecida = 0\n",
        "  for correta, errada in testes:\n",
        "    palavra_corrigida = corretor(errada)\n",
        "    desconhecida += (correta not in vocabulario)\n",
        "    if palavra_corrigida == correta:\n",
        "      acertou += 1\n",
        "  taxa_acerto = round(((acertou / numero_palavras)*100),3)\n",
        "  taxa_desconhecida = round(((desconhecida / numero_palavras)*100),3)\n",
        "  print(f'A taxa de acerto do corretor é de: {taxa_acerto}%, com um total de {numero_palavras} palavras')\n",
        "  print(f'A taxa de termos desconhecidos é de: {taxa_desconhecida}%')"
      ],
      "metadata": {
        "id": "1sq98yl3Z6hL"
      },
      "execution_count": 240,
      "outputs": []
    },
    {
      "cell_type": "code",
      "source": [
        "avaliador(lista_teste, vocabulario)"
      ],
      "metadata": {
        "colab": {
          "base_uri": "https://localhost:8080/"
        },
        "id": "qKrc4rfTb_Y2",
        "outputId": "7279d670-9839-4b93-f224-fde567d57cba"
      },
      "execution_count": 241,
      "outputs": [
        {
          "output_type": "stream",
          "name": "stdout",
          "text": [
            "A taxa de acerto do corretor é de: 76.344%, com um total de 186 palavras\n",
            "A taxa de termos desconhecidos é de: 6.989%\n"
          ]
        }
      ]
    },
    {
      "cell_type": "code",
      "source": [],
      "metadata": {
        "id": "GrNVUAxucEaB"
      },
      "execution_count": null,
      "outputs": []
    }
  ]
}